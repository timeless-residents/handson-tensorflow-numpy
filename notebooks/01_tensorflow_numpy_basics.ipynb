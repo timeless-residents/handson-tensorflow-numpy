{
 "cells": [
  {
   "cell_type": "markdown",
   "metadata": {},
   "source": [
    "# TensorFlow and NumPy Basics\n",
    "\n",
    "This notebook demonstrates the basic operations and interoperability between TensorFlow and NumPy."
   ]
  },
  {
   "cell_type": "code",
   "execution_count": null,
   "metadata": {},
   "source": [
    "import tensorflow as tf\n",
    "import numpy as np\n",
    "\n",
    "print(f\"TensorFlow version: {tf.__version__}\")\n",
    "print(f\"NumPy version: {np.__version__}\")"
   ]
  },
  {
   "cell_type": "markdown",
   "metadata": {},
   "source": [
    "## Creating Tensors and Arrays"
   ]
  },
  {
   "cell_type": "code",
   "execution_count": null,
   "metadata": {},
   "source": [
    "# TensorFlow tensors\n",
    "tf_scalar = tf.constant(42)\n",
    "tf_vector = tf.constant([1, 2, 3, 4])\n",
    "tf_matrix = tf.constant([[1, 2], [3, 4]])\n",
    "\n",
    "print(\"TensorFlow scalar:\", tf_scalar)\n",
    "print(\"TensorFlow vector:\", tf_vector)\n",
    "print(\"TensorFlow matrix:\", tf_matrix)"
   ]
  },
  {
   "cell_type": "code",
   "execution_count": null,
   "metadata": {},
   "source": [
    "# NumPy arrays\n",
    "np_scalar = np.array(42)\n",
    "np_vector = np.array([1, 2, 3, 4])\n",
    "np_matrix = np.array([[1, 2], [3, 4]])\n",
    "\n",
    "print(\"NumPy scalar:\", np_scalar)\n",
    "print(\"NumPy vector:\", np_vector)\n",
    "print(\"NumPy matrix:\\n\", np_matrix)"
   ]
  },
  {
   "cell_type": "markdown",
   "metadata": {},
   "source": [
    "## Converting Between TensorFlow and NumPy"
   ]
  },
  {
   "cell_type": "code",
   "execution_count": null,
   "metadata": {},
   "source": [
    "# NumPy array to TensorFlow tensor\n",
    "tf_from_np = tf.constant(np_matrix)\n",
    "print(\"TensorFlow tensor from NumPy:\\n\", tf_from_np)"
   ]
  },
  {
   "cell_type": "code",
   "execution_count": null,
   "metadata": {},
   "source": [
    "# TensorFlow tensor to NumPy array\n",
    "np_from_tf = tf_matrix.numpy()\n",
    "print(\"NumPy array from TensorFlow:\\n\", np_from_tf)\n",
    "print(\"Type:\", type(np_from_tf))"
   ]
  },
  {
   "cell_type": "markdown",
   "metadata": {},
   "source": [
    "## Basic Operations"
   ]
  },
  {
   "cell_type": "code",
   "execution_count": null,
   "metadata": {},
   "source": [
    "# TensorFlow operations\n",
    "tf_add = tf.add(tf_matrix, tf_matrix)\n",
    "tf_mul = tf.matmul(tf_matrix, tf_matrix)\n",
    "\n",
    "print(\"TensorFlow addition:\\n\", tf_add)\n",
    "print(\"TensorFlow matrix multiplication:\\n\", tf_mul)"
   ]
  },
  {
   "cell_type": "code",
   "execution_count": null,
   "metadata": {},
   "source": [
    "# NumPy operations\n",
    "np_add = np_matrix + np_matrix\n",
    "np_mul = np.matmul(np_matrix, np_matrix)\n",
    "\n",
    "print(\"NumPy addition:\\n\", np_add)\n",
    "print(\"NumPy matrix multiplication:\\n\", np_mul)"
   ]
  },
  {
   "cell_type": "markdown",
   "metadata": {},
   "source": [
    "## Performance Comparison"
   ]
  },
  {
   "cell_type": "code",
   "execution_count": null,
   "metadata": {},
   "source": [
    "import time\n",
    "\n",
    "# Create large matrices\n",
    "size = 1000\n",
    "tf_large_matrix = tf.random.uniform((size, size))\n",
    "np_large_matrix = np.random.uniform(size=(size, size))"
   ]
  },
  {
   "cell_type": "code",
   "execution_count": null,
   "metadata": {},
   "source": [
    "# Measure TensorFlow performance\n",
    "start_time = time.time()\n",
    "tf_result = tf.matmul(tf_large_matrix, tf.transpose(tf_large_matrix))\n",
    "tf_time = time.time() - start_time\n",
    "\n",
    "print(f\"TensorFlow time: {tf_time:.6f} seconds\")"
   ]
  },
  {
   "cell_type": "code",
   "execution_count": null,
   "metadata": {},
   "source": [
    "# Measure NumPy performance\n",
    "start_time = time.time()\n",
    "np_result = np.matmul(np_large_matrix, np_large_matrix.T)\n",
    "np_time = time.time() - start_time\n",
    "\n",
    "print(f\"NumPy time: {np_time:.6f} seconds\")\n",
    "print(f\"TensorFlow is {np_time/tf_time:.2f}x faster than NumPy\")"
   ]
  }
 ],
 "metadata": {
  "kernelspec": {
   "display_name": "Python 3",
   "language": "python",
   "name": "python3"
  },
  "language_info": {
   "codemirror_mode": {
    "name": "ipython",
    "version": 3
   },
   "file_extension": ".py",
   "mimetype": "text/x-python",
   "name": "python",
   "nbconvert_exporter": "python",
   "pygments_lexer": "ipython3",
   "version": "3.8.10"
  }
 },
 "nbformat": 4,
 "nbformat_minor": 4
}